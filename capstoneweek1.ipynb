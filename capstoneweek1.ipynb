{
 "cells": [
  {
   "cell_type": "markdown",
   "id": "54eacb7c-cecc-4975-b756-7d3ed4b791df",
   "metadata": {},
   "source": [
    "# HELLO EVERYONE "
   ]
  },
  {
   "cell_type": "markdown",
   "id": "1760486f-fd0c-4752-ae1c-fbc4ddfb7bcf",
   "metadata": {},
   "source": [
    "#### THIS IS MY FINAL CAPSTONE PROJECT AND THIS WILL BE MAINLY USED FOR IT"
   ]
  },
  {
   "cell_type": "code",
   "execution_count": 1,
   "id": "c7aeaab8-037c-4122-bdce-d15f3d7e6503",
   "metadata": {},
   "outputs": [],
   "source": [
    "import pandas as pd\n",
    "import numpy as np"
   ]
  },
  {
   "cell_type": "code",
   "execution_count": 3,
   "id": "07c197a8-8c40-4cc7-a896-11ba06b88950",
   "metadata": {},
   "outputs": [
    {
     "name": "stdout",
     "output_type": "stream",
     "text": [
      "Hello Capstone Project Course\n"
     ]
    }
   ],
   "source": [
    "print(\"Hello Capstone Project Course\")"
   ]
  },
  {
   "cell_type": "code",
   "execution_count": null,
   "id": "3b48908e-bf87-4f76-a424-d74b75b1de2d",
   "metadata": {},
   "outputs": [],
   "source": []
  }
 ],
 "metadata": {
  "kernelspec": {
   "display_name": "Python",
   "language": "python",
   "name": "conda-env-python-py"
  },
  "language_info": {
   "codemirror_mode": {
    "name": "ipython",
    "version": 3
   },
   "file_extension": ".py",
   "mimetype": "text/x-python",
   "name": "python",
   "nbconvert_exporter": "python",
   "pygments_lexer": "ipython3",
   "version": "3.6.13"
  }
 },
 "nbformat": 4,
 "nbformat_minor": 5
}
